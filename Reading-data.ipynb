{
 "cells": [
  {
   "cell_type": "code",
   "execution_count": 75,
   "id": "89ad4e60-9b3b-4b75-850a-5de86ae3451e",
   "metadata": {},
   "outputs": [],
   "source": [
    "import pandas as pd"
   ]
  },
  {
   "cell_type": "code",
   "execution_count": 76,
   "id": "0d81fb0e-ff2d-4473-add1-6ed8f1282a64",
   "metadata": {},
   "outputs": [
    {
     "data": {
      "text/html": [
       "<div>\n",
       "<style scoped>\n",
       "    .dataframe tbody tr th:only-of-type {\n",
       "        vertical-align: middle;\n",
       "    }\n",
       "\n",
       "    .dataframe tbody tr th {\n",
       "        vertical-align: top;\n",
       "    }\n",
       "\n",
       "    .dataframe thead th {\n",
       "        text-align: right;\n",
       "    }\n",
       "</style>\n",
       "<table border=\"1\" class=\"dataframe\">\n",
       "  <thead>\n",
       "    <tr style=\"text-align: right;\">\n",
       "      <th></th>\n",
       "      <th>title</th>\n",
       "      <th>industry</th>\n",
       "      <th>release_year</th>\n",
       "      <th>imdb_rating</th>\n",
       "      <th>studio</th>\n",
       "      <th>budget</th>\n",
       "      <th>revenue</th>\n",
       "      <th>unit</th>\n",
       "      <th>currency</th>\n",
       "      <th>language</th>\n",
       "    </tr>\n",
       "  </thead>\n",
       "  <tbody>\n",
       "    <tr>\n",
       "      <th>0</th>\n",
       "      <td>Pather Panchali</td>\n",
       "      <td>Bollywood</td>\n",
       "      <td>1955</td>\n",
       "      <td>8.3</td>\n",
       "      <td>Government of West Bengal</td>\n",
       "      <td>70000.0</td>\n",
       "      <td>100000.0</td>\n",
       "      <td>Thousands</td>\n",
       "      <td>INR</td>\n",
       "      <td>Bengali</td>\n",
       "    </tr>\n",
       "    <tr>\n",
       "      <th>1</th>\n",
       "      <td>Doctor Strange in the Multiverse of Madness</td>\n",
       "      <td>Hollywood</td>\n",
       "      <td>2022</td>\n",
       "      <td>NaN</td>\n",
       "      <td>Marvel Studios</td>\n",
       "      <td>200.0</td>\n",
       "      <td>954.8</td>\n",
       "      <td>Millions</td>\n",
       "      <td>USD</td>\n",
       "      <td>English</td>\n",
       "    </tr>\n",
       "    <tr>\n",
       "      <th>2</th>\n",
       "      <td>Thor: The Dark World</td>\n",
       "      <td>Hollywood</td>\n",
       "      <td>2013</td>\n",
       "      <td>6.8</td>\n",
       "      <td>Marvel Studios</td>\n",
       "      <td>165.0</td>\n",
       "      <td>644.8</td>\n",
       "      <td>Millions</td>\n",
       "      <td>USD</td>\n",
       "      <td>English</td>\n",
       "    </tr>\n",
       "    <tr>\n",
       "      <th>3</th>\n",
       "      <td>Thor: Ragnarok</td>\n",
       "      <td>Hollywood</td>\n",
       "      <td>2017</td>\n",
       "      <td>7.9</td>\n",
       "      <td>Marvel Studios</td>\n",
       "      <td>180.0</td>\n",
       "      <td>854.0</td>\n",
       "      <td>Millions</td>\n",
       "      <td>USD</td>\n",
       "      <td>English</td>\n",
       "    </tr>\n",
       "    <tr>\n",
       "      <th>4</th>\n",
       "      <td>Thor: Love and Thunder</td>\n",
       "      <td>Hollywood</td>\n",
       "      <td>2022</td>\n",
       "      <td>6.8</td>\n",
       "      <td>Marvel Studios</td>\n",
       "      <td>250.0</td>\n",
       "      <td>670.0</td>\n",
       "      <td>Millions</td>\n",
       "      <td>USD</td>\n",
       "      <td>English</td>\n",
       "    </tr>\n",
       "  </tbody>\n",
       "</table>\n",
       "</div>"
      ],
      "text/plain": [
       "                                         title   industry  release_year  \\\n",
       "0                              Pather Panchali  Bollywood          1955   \n",
       "1  Doctor Strange in the Multiverse of Madness  Hollywood          2022   \n",
       "2                        Thor: The Dark World   Hollywood          2013   \n",
       "3                              Thor: Ragnarok   Hollywood          2017   \n",
       "4                      Thor: Love and Thunder   Hollywood          2022   \n",
       "\n",
       "   imdb_rating                     studio   budget   revenue       unit  \\\n",
       "0          8.3  Government of West Bengal  70000.0  100000.0  Thousands   \n",
       "1          NaN             Marvel Studios    200.0     954.8   Millions   \n",
       "2          6.8             Marvel Studios    165.0     644.8   Millions   \n",
       "3          7.9             Marvel Studios    180.0     854.0   Millions   \n",
       "4          6.8             Marvel Studios    250.0     670.0   Millions   \n",
       "\n",
       "  currency language  \n",
       "0      INR  Bengali  \n",
       "1      USD  English  \n",
       "2      USD  English  \n",
       "3      USD  English  \n",
       "4      USD  English  "
      ]
     },
     "execution_count": 76,
     "metadata": {},
     "output_type": "execute_result"
    }
   ],
   "source": [
    "dataset=pd.read_csv(\"D:movies.csv\")\n",
    "dataset.head()"
   ]
  },
  {
   "cell_type": "code",
   "execution_count": 77,
   "id": "855ba1e5-cac0-464e-a081-c7dd13322d16",
   "metadata": {},
   "outputs": [
    {
     "data": {
      "text/plain": [
       "Index(['title', 'industry', 'release_year', 'imdb_rating', 'studio', 'budget',\n",
       "       'revenue', 'unit', 'currency', 'language'],\n",
       "      dtype='object')"
      ]
     },
     "execution_count": 77,
     "metadata": {},
     "output_type": "execute_result"
    }
   ],
   "source": [
    "dataset.columns"
   ]
  },
  {
   "cell_type": "markdown",
   "id": "90d9a269-680d-4ff7-bf9f-82a90e3eca52",
   "metadata": {},
   "source": [
    "## the columns "
   ]
  },
  {
   "cell_type": "code",
   "execution_count": 78,
   "id": "6a31e212-3779-4048-90fb-835e8356595f",
   "metadata": {},
   "outputs": [
    {
     "name": "stdout",
     "output_type": "stream",
     "text": [
      "<class 'pandas.core.frame.DataFrame'>\n",
      "RangeIndex: 37 entries, 0 to 36\n",
      "Data columns (total 10 columns):\n",
      " #   Column        Non-Null Count  Dtype  \n",
      "---  ------        --------------  -----  \n",
      " 0   title         37 non-null     object \n",
      " 1   industry      35 non-null     object \n",
      " 2   release_year  37 non-null     int64  \n",
      " 3   imdb_rating   35 non-null     float64\n",
      " 4   studio        34 non-null     object \n",
      " 5   budget        31 non-null     float64\n",
      " 6   revenue       37 non-null     float64\n",
      " 7   unit          37 non-null     object \n",
      " 8   currency      37 non-null     object \n",
      " 9   language      37 non-null     object \n",
      "dtypes: float64(3), int64(1), object(6)\n",
      "memory usage: 3.0+ KB\n"
     ]
    }
   ],
   "source": [
    "dataset.info()"
   ]
  },
  {
   "cell_type": "markdown",
   "id": "12278569-e13b-4dc9-a8b4-15d62eb2e31a",
   "metadata": {},
   "source": [
    "## the info of data and its type"
   ]
  },
  {
   "cell_type": "code",
   "execution_count": 79,
   "id": "25c0ea33-3518-4420-9121-d1f2f0640f1e",
   "metadata": {},
   "outputs": [
    {
     "data": {
      "text/plain": [
       "37"
      ]
     },
     "execution_count": 79,
     "metadata": {},
     "output_type": "execute_result"
    }
   ],
   "source": [
    "len(dataset)"
   ]
  },
  {
   "cell_type": "markdown",
   "id": "3c3b9dc7-dcb2-4fe7-a6a1-7a022bf0e1d7",
   "metadata": {},
   "source": [
    "## the length of dataset"
   ]
  },
  {
   "cell_type": "code",
   "execution_count": 80,
   "id": "4336eac1-6820-46e1-abd5-a83ec4fbb857",
   "metadata": {},
   "outputs": [
    {
     "data": {
      "text/html": [
       "<div>\n",
       "<style scoped>\n",
       "    .dataframe tbody tr th:only-of-type {\n",
       "        vertical-align: middle;\n",
       "    }\n",
       "\n",
       "    .dataframe tbody tr th {\n",
       "        vertical-align: top;\n",
       "    }\n",
       "\n",
       "    .dataframe thead th {\n",
       "        text-align: right;\n",
       "    }\n",
       "</style>\n",
       "<table border=\"1\" class=\"dataframe\">\n",
       "  <thead>\n",
       "    <tr style=\"text-align: right;\">\n",
       "      <th></th>\n",
       "      <th>release_year</th>\n",
       "      <th>imdb_rating</th>\n",
       "      <th>budget</th>\n",
       "      <th>revenue</th>\n",
       "    </tr>\n",
       "  </thead>\n",
       "  <tbody>\n",
       "    <tr>\n",
       "      <th>count</th>\n",
       "      <td>37.000000</td>\n",
       "      <td>35.000000</td>\n",
       "      <td>31.000000</td>\n",
       "      <td>37.000000</td>\n",
       "    </tr>\n",
       "    <tr>\n",
       "      <th>mean</th>\n",
       "      <td>2007.027027</td>\n",
       "      <td>7.945714</td>\n",
       "      <td>2464.196129</td>\n",
       "      <td>4117.135135</td>\n",
       "    </tr>\n",
       "    <tr>\n",
       "      <th>std</th>\n",
       "      <td>17.657995</td>\n",
       "      <td>1.212034</td>\n",
       "      <td>12536.293306</td>\n",
       "      <td>16372.462682</td>\n",
       "    </tr>\n",
       "    <tr>\n",
       "      <th>min</th>\n",
       "      <td>1946.000000</td>\n",
       "      <td>1.900000</td>\n",
       "      <td>1.400000</td>\n",
       "      <td>3.100000</td>\n",
       "    </tr>\n",
       "    <tr>\n",
       "      <th>25%</th>\n",
       "      <td>2001.000000</td>\n",
       "      <td>7.850000</td>\n",
       "      <td>23.500000</td>\n",
       "      <td>263.100000</td>\n",
       "    </tr>\n",
       "    <tr>\n",
       "      <th>50%</th>\n",
       "      <td>2014.000000</td>\n",
       "      <td>8.100000</td>\n",
       "      <td>177.000000</td>\n",
       "      <td>701.800000</td>\n",
       "    </tr>\n",
       "    <tr>\n",
       "      <th>75%</th>\n",
       "      <td>2018.000000</td>\n",
       "      <td>8.400000</td>\n",
       "      <td>320.000000</td>\n",
       "      <td>2000.000000</td>\n",
       "    </tr>\n",
       "    <tr>\n",
       "      <th>max</th>\n",
       "      <td>2022.000000</td>\n",
       "      <td>9.300000</td>\n",
       "      <td>70000.000000</td>\n",
       "      <td>100000.000000</td>\n",
       "    </tr>\n",
       "  </tbody>\n",
       "</table>\n",
       "</div>"
      ],
      "text/plain": [
       "       release_year  imdb_rating        budget        revenue\n",
       "count     37.000000    35.000000     31.000000      37.000000\n",
       "mean    2007.027027     7.945714   2464.196129    4117.135135\n",
       "std       17.657995     1.212034  12536.293306   16372.462682\n",
       "min     1946.000000     1.900000      1.400000       3.100000\n",
       "25%     2001.000000     7.850000     23.500000     263.100000\n",
       "50%     2014.000000     8.100000    177.000000     701.800000\n",
       "75%     2018.000000     8.400000    320.000000    2000.000000\n",
       "max     2022.000000     9.300000  70000.000000  100000.000000"
      ]
     },
     "execution_count": 80,
     "metadata": {},
     "output_type": "execute_result"
    }
   ],
   "source": [
    "dataset.describe()"
   ]
  },
  {
   "cell_type": "markdown",
   "id": "b441f41f-c6f7-45d8-a05f-40e3361a98fc",
   "metadata": {},
   "source": [
    "## description of our data set"
   ]
  },
  {
   "cell_type": "code",
   "execution_count": 81,
   "id": "6c3cca2c-9c33-4bb8-83ee-82c73b9799ed",
   "metadata": {
    "scrolled": true
   },
   "outputs": [
    {
     "data": {
      "text/plain": [
       "industry\n",
       "Hollywood    19\n",
       "Bollywood    16\n",
       "Name: count, dtype: int64"
      ]
     },
     "execution_count": 81,
     "metadata": {},
     "output_type": "execute_result"
    }
   ],
   "source": [
    "dataset.industry.value_counts()"
   ]
  },
  {
   "cell_type": "markdown",
   "id": "743fc718-f244-41ab-89e2-b71cb938724e",
   "metadata": {},
   "source": [
    "## The values"
   ]
  },
  {
   "cell_type": "code",
   "execution_count": 82,
   "id": "79e6cebf-3fdc-40fc-be85-13e6328d1aff",
   "metadata": {},
   "outputs": [],
   "source": [
    "dataset['profit']=dataset['revenue']-dataset['budget']"
   ]
  },
  {
   "cell_type": "code",
   "execution_count": 103,
   "id": "d40f3224-9854-48f0-b5e9-7bfd8814a7df",
   "metadata": {},
   "outputs": [],
   "source": [
    "index_max_prof_film=dataset['profit'].idxmax()"
   ]
  },
  {
   "cell_type": "code",
   "execution_count": 105,
   "id": "ce3f1bf1-25b4-4c08-b8d3-733bd685647f",
   "metadata": {},
   "outputs": [],
   "source": [
    "max_profit_film=dataset.loc[index_max_prof_film]"
   ]
  },
  {
   "cell_type": "code",
   "execution_count": 101,
   "id": "17e360af-8147-41b0-8abe-155208d4f4f9",
   "metadata": {},
   "outputs": [
    {
     "data": {
      "text/plain": [
       "title                     Pather Panchali\n",
       "industry                        Bollywood\n",
       "release_year                         1955\n",
       "imdb_rating                           8.3\n",
       "studio          Government of West Bengal\n",
       "budget                            70000.0\n",
       "revenue                          100000.0\n",
       "unit                            Thousands\n",
       "currency                              INR\n",
       "language                          Bengali\n",
       "profit                            30000.0\n",
       "Name: 0, dtype: object"
      ]
     },
     "execution_count": 101,
     "metadata": {},
     "output_type": "execute_result"
    }
   ],
   "source": [
    "max_profit_film"
   ]
  },
  {
   "cell_type": "markdown",
   "id": "058df256-f1ab-411f-b292-e041e243a997",
   "metadata": {},
   "source": [
    "## the most profited film in the bollywood"
   ]
  },
  {
   "cell_type": "code",
   "execution_count": 114,
   "id": "53cdc3df-272a-472a-88ad-641dfef340f9",
   "metadata": {},
   "outputs": [],
   "source": [
    "max_flim_hw=dataset['profit'][dataset['industry']=='Hollywood'].idxmax()\n"
   ]
  },
  {
   "cell_type": "code",
   "execution_count": 118,
   "id": "530ade80-3055-4d42-afb0-db6ee7f334f1",
   "metadata": {},
   "outputs": [
    {
     "data": {
      "text/plain": [
       "title                     Avatar\n",
       "industry               Hollywood\n",
       "release_year                2009\n",
       "imdb_rating                  7.8\n",
       "studio          20th Century Fox\n",
       "budget                     237.0\n",
       "revenue                   2847.0\n",
       "unit                    Millions\n",
       "currency                     USD\n",
       "language                 English\n",
       "profit                    2610.0\n",
       "Name: 11, dtype: object"
      ]
     },
     "execution_count": 118,
     "metadata": {},
     "output_type": "execute_result"
    }
   ],
   "source": [
    "hw_max_flim=dataset.loc[max_flim_hw]\n",
    "hw_max_flim"
   ]
  },
  {
   "cell_type": "markdown",
   "id": "6c701008-81d0-43b8-9d55-08313e24da1e",
   "metadata": {},
   "source": [
    "## the most profited hollywood film"
   ]
  },
  {
   "cell_type": "code",
   "execution_count": 120,
   "id": "14669740-e506-4ab5-8283-6245d42041c8",
   "metadata": {},
   "outputs": [
    {
     "data": {
      "text/plain": [
       "studio\n",
       "Marvel Studios               8\n",
       "Vinod Chopra Films           3\n",
       "Universal Pictures           2\n",
       "Salman Khan Films            2\n",
       "Paramount Pictures           2\n",
       "Dharma Productions           2\n",
       "DVV Entertainment            1\n",
       "Mythri Movie Makers          1\n",
       "Hombale Films                1\n",
       "Zee Studios                  1\n",
       "Vinod Chopra Productions     1\n",
       "Government of West Bengal    1\n",
       "Yash Raj Films               1\n",
       "Syncopy                      1\n",
       "20th Century Fox             1\n",
       "Liberty Films                1\n",
       "Universal Pictures           1\n",
       "Columbia Pictures            1\n",
       "Warner Bros. Pictures        1\n",
       "Castle Rock Entertainment    1\n",
       "Arka Media Works             1\n",
       "Name: count, dtype: int64"
      ]
     },
     "execution_count": 120,
     "metadata": {},
     "output_type": "execute_result"
    }
   ],
   "source": [
    "dataset.studio.value_counts()\n"
   ]
  },
  {
   "cell_type": "markdown",
   "id": "1725e143-cf52-4aec-9f90-d1707672e9e0",
   "metadata": {},
   "source": []
  }
 ],
 "metadata": {
  "kernelspec": {
   "display_name": "Python 3 (ipykernel)",
   "language": "python",
   "name": "python3"
  },
  "language_info": {
   "codemirror_mode": {
    "name": "ipython",
    "version": 3
   },
   "file_extension": ".py",
   "mimetype": "text/x-python",
   "name": "python",
   "nbconvert_exporter": "python",
   "pygments_lexer": "ipython3",
   "version": "3.12.4"
  }
 },
 "nbformat": 4,
 "nbformat_minor": 5
}
