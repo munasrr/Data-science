{
 "cells": [
  {
   "cell_type": "code",
   "execution_count": 2,
   "id": "465ea837-d4c2-43e1-9303-d49954b25e4b",
   "metadata": {},
   "outputs": [],
   "source": [
    "import  numpy as np"
   ]
  },
  {
   "cell_type": "code",
   "execution_count": 4,
   "id": "8cf1a786-2663-4c2a-97f1-5b4d01596e8a",
   "metadata": {},
   "outputs": [],
   "source": [
    "import pandas as pd"
   ]
  },
  {
   "cell_type": "code",
   "execution_count": 6,
   "id": "3d0f0b2a-a4e1-4ff6-8a16-2e5a9d250200",
   "metadata": {},
   "outputs": [],
   "source": [
    "import statistics as stats"
   ]
  },
  {
   "cell_type": "code",
   "execution_count": 8,
   "id": "339e26b6-4553-44f6-9777-5e760f0b1359",
   "metadata": {},
   "outputs": [],
   "source": [
    "gobol=[\"Ben\",\"Bari\",\"Bay\",\"Awdal\"]\n",
    "dadka=[4000000,10000000,1500000,5000000]\n",
    "badka=[16,400,120,200]"
   ]
  },
  {
   "cell_type": "code",
   "execution_count": 22,
   "id": "e64e748b-c872-437e-ac49-ed5775d697fa",
   "metadata": {},
   "outputs": [
    {
     "data": {
      "text/html": [
       "<div>\n",
       "<style scoped>\n",
       "    .dataframe tbody tr th:only-of-type {\n",
       "        vertical-align: middle;\n",
       "    }\n",
       "\n",
       "    .dataframe tbody tr th {\n",
       "        vertical-align: top;\n",
       "    }\n",
       "\n",
       "    .dataframe thead th {\n",
       "        text-align: right;\n",
       "    }\n",
       "</style>\n",
       "<table border=\"1\" class=\"dataframe\">\n",
       "  <thead>\n",
       "    <tr style=\"text-align: right;\">\n",
       "      <th></th>\n",
       "      <th>gobolada</th>\n",
       "      <th>dadka</th>\n",
       "      <th>baaxadda</th>\n",
       "    </tr>\n",
       "  </thead>\n",
       "  <tbody>\n",
       "    <tr>\n",
       "      <th>0</th>\n",
       "      <td>Ben</td>\n",
       "      <td>4000000</td>\n",
       "      <td>16</td>\n",
       "    </tr>\n",
       "    <tr>\n",
       "      <th>1</th>\n",
       "      <td>Bari</td>\n",
       "      <td>10000000</td>\n",
       "      <td>400</td>\n",
       "    </tr>\n",
       "    <tr>\n",
       "      <th>2</th>\n",
       "      <td>Bay</td>\n",
       "      <td>1500000</td>\n",
       "      <td>120</td>\n",
       "    </tr>\n",
       "    <tr>\n",
       "      <th>3</th>\n",
       "      <td>Awdal</td>\n",
       "      <td>5000000</td>\n",
       "      <td>200</td>\n",
       "    </tr>\n",
       "  </tbody>\n",
       "</table>\n",
       "</div>"
      ],
      "text/plain": [
       "  gobolada     dadka  baaxadda\n",
       "0      Ben   4000000        16\n",
       "1     Bari  10000000       400\n",
       "2      Bay   1500000       120\n",
       "3    Awdal   5000000       200"
      ]
     },
     "execution_count": 22,
     "metadata": {},
     "output_type": "execute_result"
    }
   ],
   "source": [
    "df=pd.DataFrame({\"gobolada\":gobol,\"dadka\":dadka,\"baaxadda\":badka})\n",
    "df"
   ]
  },
  {
   "cell_type": "markdown",
   "id": "8af3dca6-0cb5-48c1-a03f-ed5ba4284702",
   "metadata": {},
   "source": [
    "## comment"
   ]
  },
  {
   "cell_type": "code",
   "execution_count": 26,
   "id": "31d5c0b5-63f0-488b-acdf-1527c0f481da",
   "metadata": {},
   "outputs": [
    {
     "data": {
      "text/plain": [
       "0    30\n",
       "1    60\n",
       "2    90\n",
       "dtype: int64"
      ]
     },
     "execution_count": 26,
     "metadata": {},
     "output_type": "execute_result"
    }
   ],
   "source": [
    "ds=pd.Series([30,60,90])\n",
    "ds"
   ]
  },
  {
   "cell_type": "code",
   "execution_count": null,
   "id": "924d4dab-9120-4e22-bafe-c845f34f741e",
   "metadata": {},
   "outputs": [],
   "source": []
  }
 ],
 "metadata": {
  "kernelspec": {
   "display_name": "Python 3 (ipykernel)",
   "language": "python",
   "name": "python3"
  },
  "language_info": {
   "codemirror_mode": {
    "name": "ipython",
    "version": 3
   },
   "file_extension": ".py",
   "mimetype": "text/x-python",
   "name": "python",
   "nbconvert_exporter": "python",
   "pygments_lexer": "ipython3",
   "version": "3.12.4"
  }
 },
 "nbformat": 4,
 "nbformat_minor": 5
}
