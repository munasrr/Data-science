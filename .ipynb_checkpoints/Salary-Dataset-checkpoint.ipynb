{
 "cells": [
  {
   "cell_type": "markdown",
   "id": "9be67db2-3f42-4dda-b687-9f1da2537701",
   "metadata": {},
   "source": [
    "# Name: Anwar Abdi Abdullahi\n",
    "## Class:CA219\n",
    "### ID:CA1210539"
   ]
  },
  {
   "cell_type": "code",
   "execution_count": 2,
   "id": "6edb4cbd-1e92-4784-a608-3b2f0bf5c4a2",
   "metadata": {},
   "outputs": [],
   "source": [
    "import pandas as pd"
   ]
  },
  {
   "cell_type": "code",
   "execution_count": 3,
   "id": "271bc9f4-41e1-49c2-bd68-40480316cc40",
   "metadata": {},
   "outputs": [
    {
     "data": {
      "text/html": [
       "<div>\n",
       "<style scoped>\n",
       "    .dataframe tbody tr th:only-of-type {\n",
       "        vertical-align: middle;\n",
       "    }\n",
       "\n",
       "    .dataframe tbody tr th {\n",
       "        vertical-align: top;\n",
       "    }\n",
       "\n",
       "    .dataframe thead th {\n",
       "        text-align: right;\n",
       "    }\n",
       "</style>\n",
       "<table border=\"1\" class=\"dataframe\">\n",
       "  <thead>\n",
       "    <tr style=\"text-align: right;\">\n",
       "      <th></th>\n",
       "      <th>Id</th>\n",
       "      <th>EmployeeName</th>\n",
       "      <th>JobTitle</th>\n",
       "      <th>BasePay</th>\n",
       "      <th>OvertimePay</th>\n",
       "      <th>OtherPay</th>\n",
       "      <th>Benefits</th>\n",
       "      <th>TotalPay</th>\n",
       "      <th>TotalPayBenefits</th>\n",
       "      <th>Year</th>\n",
       "      <th>Notes</th>\n",
       "      <th>Agency</th>\n",
       "      <th>Status</th>\n",
       "    </tr>\n",
       "  </thead>\n",
       "  <tbody>\n",
       "    <tr>\n",
       "      <th>0</th>\n",
       "      <td>1</td>\n",
       "      <td>NATHANIEL FORD</td>\n",
       "      <td>GENERAL MANAGER-METROPOLITAN TRANSIT AUTHORITY</td>\n",
       "      <td>167411.18</td>\n",
       "      <td>0.00</td>\n",
       "      <td>400184.25</td>\n",
       "      <td>NaN</td>\n",
       "      <td>567595.43</td>\n",
       "      <td>567595.43</td>\n",
       "      <td>2011</td>\n",
       "      <td>NaN</td>\n",
       "      <td>San Francisco</td>\n",
       "      <td>NaN</td>\n",
       "    </tr>\n",
       "    <tr>\n",
       "      <th>1</th>\n",
       "      <td>2</td>\n",
       "      <td>GARY JIMENEZ</td>\n",
       "      <td>CAPTAIN III (POLICE DEPARTMENT)</td>\n",
       "      <td>155966.02</td>\n",
       "      <td>245131.88</td>\n",
       "      <td>137811.38</td>\n",
       "      <td>NaN</td>\n",
       "      <td>538909.28</td>\n",
       "      <td>538909.28</td>\n",
       "      <td>2011</td>\n",
       "      <td>NaN</td>\n",
       "      <td>San Francisco</td>\n",
       "      <td>NaN</td>\n",
       "    </tr>\n",
       "    <tr>\n",
       "      <th>2</th>\n",
       "      <td>3</td>\n",
       "      <td>ALBERT PARDINI</td>\n",
       "      <td>CAPTAIN III (POLICE DEPARTMENT)</td>\n",
       "      <td>212739.13</td>\n",
       "      <td>106088.18</td>\n",
       "      <td>16452.60</td>\n",
       "      <td>NaN</td>\n",
       "      <td>335279.91</td>\n",
       "      <td>335279.91</td>\n",
       "      <td>2011</td>\n",
       "      <td>NaN</td>\n",
       "      <td>San Francisco</td>\n",
       "      <td>NaN</td>\n",
       "    </tr>\n",
       "    <tr>\n",
       "      <th>3</th>\n",
       "      <td>4</td>\n",
       "      <td>CHRISTOPHER CHONG</td>\n",
       "      <td>WIRE ROPE CABLE MAINTENANCE MECHANIC</td>\n",
       "      <td>77916.00</td>\n",
       "      <td>56120.71</td>\n",
       "      <td>198306.90</td>\n",
       "      <td>NaN</td>\n",
       "      <td>332343.61</td>\n",
       "      <td>332343.61</td>\n",
       "      <td>2011</td>\n",
       "      <td>NaN</td>\n",
       "      <td>San Francisco</td>\n",
       "      <td>NaN</td>\n",
       "    </tr>\n",
       "    <tr>\n",
       "      <th>4</th>\n",
       "      <td>5</td>\n",
       "      <td>PATRICK GARDNER</td>\n",
       "      <td>DEPUTY CHIEF OF DEPARTMENT,(FIRE DEPARTMENT)</td>\n",
       "      <td>134401.60</td>\n",
       "      <td>9737.00</td>\n",
       "      <td>182234.59</td>\n",
       "      <td>NaN</td>\n",
       "      <td>326373.19</td>\n",
       "      <td>326373.19</td>\n",
       "      <td>2011</td>\n",
       "      <td>NaN</td>\n",
       "      <td>San Francisco</td>\n",
       "      <td>NaN</td>\n",
       "    </tr>\n",
       "  </tbody>\n",
       "</table>\n",
       "</div>"
      ],
      "text/plain": [
       "   Id       EmployeeName                                        JobTitle  \\\n",
       "0   1     NATHANIEL FORD  GENERAL MANAGER-METROPOLITAN TRANSIT AUTHORITY   \n",
       "1   2       GARY JIMENEZ                 CAPTAIN III (POLICE DEPARTMENT)   \n",
       "2   3     ALBERT PARDINI                 CAPTAIN III (POLICE DEPARTMENT)   \n",
       "3   4  CHRISTOPHER CHONG            WIRE ROPE CABLE MAINTENANCE MECHANIC   \n",
       "4   5    PATRICK GARDNER    DEPUTY CHIEF OF DEPARTMENT,(FIRE DEPARTMENT)   \n",
       "\n",
       "     BasePay  OvertimePay   OtherPay  Benefits   TotalPay  TotalPayBenefits  \\\n",
       "0  167411.18         0.00  400184.25       NaN  567595.43         567595.43   \n",
       "1  155966.02    245131.88  137811.38       NaN  538909.28         538909.28   \n",
       "2  212739.13    106088.18   16452.60       NaN  335279.91         335279.91   \n",
       "3   77916.00     56120.71  198306.90       NaN  332343.61         332343.61   \n",
       "4  134401.60      9737.00  182234.59       NaN  326373.19         326373.19   \n",
       "\n",
       "   Year  Notes         Agency  Status  \n",
       "0  2011    NaN  San Francisco     NaN  \n",
       "1  2011    NaN  San Francisco     NaN  \n",
       "2  2011    NaN  San Francisco     NaN  \n",
       "3  2011    NaN  San Francisco     NaN  \n",
       "4  2011    NaN  San Francisco     NaN  "
      ]
     },
     "execution_count": 3,
     "metadata": {},
     "output_type": "execute_result"
    }
   ],
   "source": [
    "salary_data=pd.read_csv(\"D:salary.csv\")\n",
    "salary_data.head()"
   ]
  },
  {
   "cell_type": "code",
   "execution_count": 4,
   "id": "dfbb7f2b-c642-4265-a310-d7e25872dc40",
   "metadata": {},
   "outputs": [
    {
     "name": "stdout",
     "output_type": "stream",
     "text": [
      "<class 'pandas.core.frame.DataFrame'>\n",
      "RangeIndex: 148654 entries, 0 to 148653\n",
      "Data columns (total 13 columns):\n",
      " #   Column            Non-Null Count   Dtype  \n",
      "---  ------            --------------   -----  \n",
      " 0   Id                148654 non-null  int64  \n",
      " 1   EmployeeName      148654 non-null  object \n",
      " 2   JobTitle          148654 non-null  object \n",
      " 3   BasePay           148045 non-null  float64\n",
      " 4   OvertimePay       148650 non-null  float64\n",
      " 5   OtherPay          148650 non-null  float64\n",
      " 6   Benefits          112491 non-null  float64\n",
      " 7   TotalPay          148654 non-null  float64\n",
      " 8   TotalPayBenefits  148654 non-null  float64\n",
      " 9   Year              148654 non-null  int64  \n",
      " 10  Notes             0 non-null       float64\n",
      " 11  Agency            148654 non-null  object \n",
      " 12  Status            0 non-null       float64\n",
      "dtypes: float64(8), int64(2), object(3)\n",
      "memory usage: 14.7+ MB\n"
     ]
    }
   ],
   "source": [
    "salary_data.info()"
   ]
  },
  {
   "cell_type": "code",
   "execution_count": 5,
   "id": "4b554488-1878-452c-936c-207e4a9de7a7",
   "metadata": {},
   "outputs": [
    {
     "data": {
      "text/plain": [
       "JobTitle\n",
       "Transit Operator                7036\n",
       "Special Nurse                   4389\n",
       "Registered Nurse                3736\n",
       "Public Svc Aide-Public Works    2518\n",
       "Police Officer 3                2421\n",
       "Name: count, dtype: int64"
      ]
     },
     "execution_count": 5,
     "metadata": {},
     "output_type": "execute_result"
    }
   ],
   "source": [
    "top_five_job_titles = salary_data['JobTitle'].value_counts().head(5)\n",
    "top_five_job_titles"
   ]
  },
  {
   "cell_type": "markdown",
   "id": "c9086f9a-9425-4251-acf0-d5f1b531533e",
   "metadata": {},
   "source": [
    "##### Shanta shaqo ee ugu badan waxay muujinayaan xoog shaqo oo diiradda saaraya adeegyada asaasiga ah ee bulshada. Tani waxay ka dhigan tahay in shaqaale badan loo qoondeeyey daryeelka caafimaadka, amniga dadweynaha, iyo gaadiidka dadweynaha, taasoo ka tarjumeysa muhiimadda ay leedahay daboolista baahiyaha aasaasiga ah ee bulshada.\n",
    "\n",
    "###### Shaqooyinkani waxay muujinayaan in xoogga shaqaalaha uu ku wajahan yahay daboolista baahiyaha asaasiga ah ee bulshada, sida caafimaadka, amniga, iyo gaadiidka dadweynaha. Tani waxay tilmaamaysaa in shaqooyin badan loo qoondeeyey ilaalinta daryeelka bulshada iyo adeegyada muhiimka ah."
   ]
  },
  {
   "cell_type": "code",
   "execution_count": 7,
   "id": "bf02b73e-77b7-4647-a006-dd2fc8cfd261",
   "metadata": {},
   "outputs": [
    {
     "data": {
      "text/plain": [
       "(('Chief of Police', 309767.68333333335),\n",
       " ('ASSISTANT RECREATION SUPERVISOR', 0.0))"
      ]
     },
     "execution_count": 7,
     "metadata": {},
     "output_type": "execute_result"
    }
   ],
   "source": [
    "#  average BasePay for each job title\n",
    "average_basepay_by_job = salary_data.groupby('JobTitle')['BasePay'].mean()\n",
    "\n",
    "#  job titles with the highest and lowest average BasePay\n",
    "highest_basepay_job = average_basepay_by_job.idxmax(), average_basepay_by_job.max()\n",
    "lowest_basepay_job = average_basepay_by_job.idxmin(), average_basepay_by_job.min()\n",
    "\n",
    "highest_basepay_job, lowest_basepay_job"
   ]
  },
  {
   "cell_type": "markdown",
   "id": "a812df37-cd7b-4017-90f2-0f3be3e6a29c",
   "metadata": {},
   "source": [
    "##### Shaqada Taliyaha Booliska ayaa leh mushaharka ugu sarreeya, taas oo muujinaysa in hoggaanka sare ee amniga dadweynaha uu leeyahay mushahar sare. Dhanka kale, Kaaliyaha Kormeeraha Madadaalada oo leh mushahar eber ah ayaa muujinaya in shaqadan laga yaabo inay ku salaysan tahay waqti dhiman ama tabarucaad.\n",
    "\n",
    "\n",
    "######  Shaqooyinka hoggaanka iyo kuwa mas'uuliyadda sare leh sida maamulka iyo amniga waxay leeyihiin mushahar sare, halka shaqooyinka taageerada ama waqti-dhimanka ay inta badan leeyihiin mushahar hoose ama ku tiirsan yihiin gunooyin."
   ]
  },
  {
   "cell_type": "code",
   "execution_count": 9,
   "id": "d65fdb7e-aca3-4585-b555-7c57ac6272e0",
   "metadata": {},
   "outputs": [
    {
     "data": {
      "text/plain": [
       "0.9544936474295966"
      ]
     },
     "execution_count": 9,
     "metadata": {},
     "output_type": "execute_result"
    }
   ],
   "source": [
    "# relationship between BasePay and TotalPay\n",
    "correlation_base_total_pay = salary_data[['BasePay', 'TotalPay']].corr().iloc[0, 1]\n",
    "\n",
    "correlation_base_total_pay"
   ]
  },
  {
   "cell_type": "markdown",
   "id": "838c72bc-d535-4fff-82b9-8abadeb8bdab",
   "metadata": {},
   "source": [
    "##### TotalPay wuxuu ku salaysan yahay BasePay oo ah mushaharka asaasiga ah ee shaqaalaha, waxaana ku kordha qaybo kale sida OvertimePay (mushaharka saacadaha dheeriga ah) iyo OtherPay (lacagaha kale ee dhiirrigelinta ama gunnooyinka). Shaqaalaha qaarkood waxay helaan lacago dheeraad ah, taas oo kordhinaysa TotalPay. Sidaas darteed, TotalPay waa isku darka mushaharka asaasiga ah iyo lacagaha kale ee kordhinta mushaharka, taasoo muujinaysa mushaharka guud ee shaqaalaha helaan."
   ]
  },
  {
   "cell_type": "code",
   "execution_count": 11,
   "id": "32b4b19e-1d54-4664-aeea-cbd99de006d3",
   "metadata": {},
   "outputs": [
    {
     "data": {
      "text/plain": [
       "(JobTitle\n",
       " GENERAL MANAGER-METROPOLITAN TRANSIT AUTHORITY    399211.275000\n",
       " Chief Investment Officer                          339653.700000\n",
       " Chief of Police                                   329183.646667\n",
       " Name: TotalPay, dtype: float64,\n",
       " JobTitle\n",
       " Drug Court Coordinator     0.0\n",
       " IS Technician Assistant    0.0\n",
       " Not provided               0.0\n",
       " Name: TotalPay, dtype: float64)"
      ]
     },
     "execution_count": 11,
     "metadata": {},
     "output_type": "execute_result"
    }
   ],
   "source": [
    "# Find three job titles with the highest TotalPay\n",
    "highest_totalpay_jobs = salary_data.groupby('JobTitle')['TotalPay'].mean().nlargest(3)\n",
    "\n",
    "# Find three job titles with the lowest TotalPay\n",
    "lowest_totalpay_jobs = salary_data.groupby('JobTitle')['TotalPay'].mean().nsmallest(3)\n",
    "\n",
    "highest_totalpay_jobs, lowest_totalpay_jobs\n"
   ]
  },
  {
   "cell_type": "markdown",
   "id": "66c6ccec-e63f-4fc5-ab70-2119330d78ab",
   "metadata": {},
   "source": [
    "##### Shaqooyinka hoggaanka sare sida Maareeyaha Guud iyo Sarkaalka Maalgashiga Sare waxay leeyihiin mushahar sare sababtoo ah mas’uuliyadooda iyo gunnooyinka waxqabadka. Shaqooyinka leh TotalPay hoose ama eber waxay u badan tahay inay yihiin shaqooyin waqti-dhiman, tababar, ama tabarucaad, taas oo muujinaysa farqiga mushaarka ee ku saleysan heerka mas’uuliyadda shaqooyinka."
   ]
  },
  {
   "cell_type": "code",
   "execution_count": 13,
   "id": "70557928-5cb6-4df5-89ca-abf39687d102",
   "metadata": {},
   "outputs": [
    {
     "data": {
      "text/plain": [
       "JobTitle\n",
       "Wire Rope Cable Maint Sprv                82446.923333\n",
       "WIRE ROPE CABLE MAINTENANCE SUPERVISOR    66164.730000\n",
       "Trnst Power Line Wrk Sprv 2               59259.306667\n",
       "Name: OvertimePay, dtype: float64"
      ]
     },
     "execution_count": 13,
     "metadata": {},
     "output_type": "execute_result"
    }
   ],
   "source": [
    "# Find three job titles with the highest average OvertimePay\n",
    "highest_overtimepay_jobs = salary_data.groupby('JobTitle')['OvertimePay'].mean().nlargest(3)\n",
    "\n",
    "# Display the results\n",
    "highest_overtimepay_jobs\n"
   ]
  },
  {
   "cell_type": "markdown",
   "id": "f81ba08d-3cf7-4acd-b3aa-acd90040aa47",
   "metadata": {},
   "source": [
    "##### Shaqooyinka dayactirka iyo kormeerka farsamada waxay leeyihiin mushahar dheeriga ah oo sarreeya, taas oo si weyn uga qayb qaadata dakhligooda guud. Saacadaha dheeriga ah ayaa muhiim u ah shaqooyinkan si loo hubiyo shaqada joogtada ah ee kaabayaasha iyo adeegyada dadweynaha."
   ]
  },
  {
   "cell_type": "code",
   "execution_count": 15,
   "id": "a461ccb5-2182-495a-a741-9b476e9a1cd7",
   "metadata": {},
   "outputs": [
    {
     "data": {
      "text/plain": [
       "JobTitle\n",
       "ACCOUNTANT                     0.0\n",
       "ACPO,JuvP, Juv Prob (SFERS)    0.0\n",
       "ACUPUNCTURIST                  0.0\n",
       "ADMINISTRATIVE ANALYST         0.0\n",
       "ADMINISTRATIVE ANALYST II      0.0\n",
       "Name: OvertimePay, dtype: float64"
      ]
     },
     "execution_count": 15,
     "metadata": {},
     "output_type": "execute_result"
    }
   ],
   "source": [
    "# Check if all job titles have overtime pay entries by identifying job titles with average OvertimePay as 0\n",
    "jobs_with_no_overtime = salary_data.groupby('JobTitle')['OvertimePay'].mean().loc[lambda x: x == 0].head(5)\n",
    "\n",
    "# Display examples of job titles with no overtime pay entries\n",
    "jobs_with_no_overtime\n"
   ]
  },
  {
   "cell_type": "markdown",
   "id": "4bf14d8f-4fe8-4352-8967-e0f981195608",
   "metadata": {},
   "source": [
    "##### Helitaanka mushaharka dheeriga ah wuxuu ku xiran yahay nooca shaqada iyo baahida saacado dheeri ah. Shaqooyinka farsamada iyo jawaab-celinta degdegga ah waxay helaan mushahar dheeri ah, halka shaqooyinka xafiisyada oo leh jadwal joogto ah aysan helin mushahar dheeri ah."
   ]
  },
  {
   "cell_type": "code",
   "execution_count": 17,
   "id": "6b6eb508-849e-410f-a2ef-3ed957bcff7e",
   "metadata": {},
   "outputs": [
    {
     "data": {
      "text/plain": [
       "array([2011, 2012, 2013, 2014], dtype=int64)"
      ]
     },
     "execution_count": 17,
     "metadata": {},
     "output_type": "execute_result"
    }
   ],
   "source": [
    "# List the unique years included in the dataset\n",
    "years_included = salary_data['Year'].unique()\n",
    "\n",
    "# Display the years\n",
    "years_included\n"
   ]
  },
  {
   "cell_type": "markdown",
   "id": "029ae59f-1f9a-45ce-a352-0154dfdea0b4",
   "metadata": {},
   "source": [
    "##### Xogta waxay ku saabsan tahay muddada u dhaxaysa 2011 ilaa 2014, taas oo bixisa aragti afar sano ah oo ku saabsan mushaharka iyo magdhowga shaqaalaha. Tani waxay noo ogolaaneysaa in aan is barbar dhigno isbeddelada iyo kala duwanaanshaha mushaharka sannadahan, taas oo laga yaabo inay muujiso isbeddelada ku yimid magdhowga shaqaalaha waqti ahaan."
   ]
  },
  {
   "cell_type": "code",
   "execution_count": 19,
   "id": "266d3c35-f5f3-4ee2-9117-94feab907356",
   "metadata": {},
   "outputs": [
    {
     "data": {
      "text/plain": [
       "(2013, 77611.44314205181)"
      ]
     },
     "execution_count": 19,
     "metadata": {},
     "output_type": "execute_result"
    }
   ],
   "source": [
    "# average TotalPay for each year\n",
    "average_totalpay_by_year = salary_data.groupby('Year')['TotalPay'].mean()\n",
    "\n",
    "# year with the highest average TotalPay\n",
    "year_highest_totalpay = average_totalpay_by_year.idxmax(), average_totalpay_by_year.max()\n",
    "year_highest_totalpay\n"
   ]
  },
  {
   "cell_type": "markdown",
   "id": "b4228c87-17f7-4a0a-9ede-bcfe15fa0682",
   "metadata": {},
   "source": [
    "##### Sannadka 2013 oo leh mushaharka celcelis ahaan ugu sarreeya wuxuu soo jeedinayaa in sannadkaas uu jiray koror ku yimid mushaharka guud ee shaqaalaha. Tani waxay ka dhalan kartaa isbeddelo lagu sameeyay heerarka mushaharka, kordhinta saacadaha dheeriga ah, ama siyaasadaha gunnooyinka iyo magdhowga kale. Isbeddelkan wuxuu muujinayaa in 2013 uu ahaa sanad ay korodhay soo-galinta shaqaalaha, taas oo ka tarjumaysa isbeddelo dhaqaale ama siyaasado kor loogu qaaday mushaharka."
   ]
  },
  {
   "cell_type": "code",
   "execution_count": 21,
   "id": "e1f98634-1aae-401d-8552-c2445624c20f",
   "metadata": {},
   "outputs": [
    {
     "data": {
      "text/plain": [
       "JobTitle\n",
       "Chief Investment Officer      96570.660000\n",
       "Gen Mgr, Public Trnsp Dept    82927.026667\n",
       "Chief, Fire Department        82893.643333\n",
       "Chief of Police               82548.620000\n",
       "Mayor                         78360.376667\n",
       "Name: Benefits, dtype: float64"
      ]
     },
     "execution_count": 21,
     "metadata": {},
     "output_type": "execute_result"
    }
   ],
   "source": [
    "# job titles with the highest average Benefits\n",
    "highest_benefits_jobs = salary_data.groupby('JobTitle')['Benefits'].mean().nlargest(5)\n",
    "\n",
    "highest_benefits_jobs\n"
   ]
  },
  {
   "cell_type": "markdown",
   "id": "43be4510-b551-4116-b376-2400a6200bb8",
   "metadata": {},
   "source": [
    "##### Shaqooyinka hoggaanka sare sida Taliyaha Maalgashiga iyo Maareeyaha Guud waxay helaan gunnooyin sare sababtoo ah mas'uuliyadooda iyo muhiimadda shaqadooda. Gunnooyinkan, oo ka mid noqon kara caymiska caafimaadka iyo hawlgabka, waxaa loo sameeyaa in lagu soo jiito looguna dhiirrigeliyo hogaamiyeyaasha sare."
   ]
  },
  {
   "cell_type": "markdown",
   "id": "fe571a81-e2a0-430a-b6c5-df304d82706b",
   "metadata": {},
   "source": [
    "#### Q Explain the role of `Benefits` in calculating `TotalPayBenefits`\n",
    "\n",
    "##### Benefits waxay ka mid tahay qaybaha lagu daro TotalPay si loo helo TotalPayBenefits, oo ah mushaharka guud ee shaqaalaha oo ay ku jiraan gunnooyinka dheeraadka ah sida caymiska caafimaadka iyo hawlgabka. TotalPayBenefits waxay bixisaa aragti ballaaran oo ku saabsan soo-galinta guud ee shaqaalaha, iyadoo ay ku jiraan lacagaha dheeraadka ah ee ka baxsan mushaharka asaasiga ah. Tani waxay muhiim u tahay in la fahmo dakhli-dhowaadka dhabta ah ee shaqaalaha.\n",
    "\n",
    "##### Benefits waxay kordhisaa soo-galinta guud ee shaqaalaha ee lagu muujiyo TotalPayBenefits iyada oo ay ku jiraan dheefaha sida caymiska caafimaadka iyo hawlgabka, taas oo ka dhigaysa mushaharka guud mid ka sarreeya mushaharka asaasiga ah. Tani waxay sare u qaadaysaa qiimaha iyo nolosha dhaqaale ee shaqaalaha."
   ]
  },
  {
   "cell_type": "code",
   "execution_count": 24,
   "id": "4d24bcb1-b553-428f-976d-29fe128d95b4",
   "metadata": {},
   "outputs": [
    {
     "data": {
      "text/html": [
       "<div>\n",
       "<style scoped>\n",
       "    .dataframe tbody tr th:only-of-type {\n",
       "        vertical-align: middle;\n",
       "    }\n",
       "\n",
       "    .dataframe tbody tr th {\n",
       "        vertical-align: top;\n",
       "    }\n",
       "\n",
       "    .dataframe thead th {\n",
       "        text-align: right;\n",
       "    }\n",
       "</style>\n",
       "<table border=\"1\" class=\"dataframe\">\n",
       "  <thead>\n",
       "    <tr style=\"text-align: right;\">\n",
       "      <th></th>\n",
       "      <th>EmployeeName</th>\n",
       "      <th>TotalPayBenefits</th>\n",
       "    </tr>\n",
       "  </thead>\n",
       "  <tbody>\n",
       "    <tr>\n",
       "      <th>0</th>\n",
       "      <td>NATHANIEL FORD</td>\n",
       "      <td>567595.43</td>\n",
       "    </tr>\n",
       "    <tr>\n",
       "      <th>1</th>\n",
       "      <td>GARY JIMENEZ</td>\n",
       "      <td>538909.28</td>\n",
       "    </tr>\n",
       "    <tr>\n",
       "      <th>110531</th>\n",
       "      <td>David Shinn</td>\n",
       "      <td>510732.68</td>\n",
       "    </tr>\n",
       "    <tr>\n",
       "      <th>110532</th>\n",
       "      <td>Amy P Hart</td>\n",
       "      <td>479652.21</td>\n",
       "    </tr>\n",
       "    <tr>\n",
       "      <th>110533</th>\n",
       "      <td>William J Coaker Jr.</td>\n",
       "      <td>436224.36</td>\n",
       "    </tr>\n",
       "  </tbody>\n",
       "</table>\n",
       "</div>"
      ],
      "text/plain": [
       "                EmployeeName  TotalPayBenefits\n",
       "0             NATHANIEL FORD         567595.43\n",
       "1               GARY JIMENEZ         538909.28\n",
       "110531           David Shinn         510732.68\n",
       "110532            Amy P Hart         479652.21\n",
       "110533  William J Coaker Jr.         436224.36"
      ]
     },
     "execution_count": 24,
     "metadata": {},
     "output_type": "execute_result"
    }
   ],
   "source": [
    "# employees with the highest TotalPayBenefits\n",
    "highest_totalpaybenefits_employees = salary_data.nlargest(5, 'TotalPayBenefits')[['EmployeeName', 'TotalPayBenefits']]\n",
    "\n",
    "highest_totalpaybenefits_employees\n"
   ]
  },
  {
   "cell_type": "markdown",
   "id": "0a4a959b-bfb3-4c2a-b6f2-f4db37efa0ea",
   "metadata": {},
   "source": [
    "##### Shaqaalaha leh TotalPayBenefits ugu sarreeya sida Nathaniel Ford iyo Gary Jimenez waxay qaataan soo-galin guud oo sare, taas oo ka kooban mushaharka asaasiga ah, saacadaha dheeriga ah, mushaharka kale, iyo gunnooyinka dheeraadka ah. Qiimaha sare ee magdhowgooda guud wuxuu muujinayaa in ay qabtaan xilal sare, masuuliyado culus, ama helaan gunnooyin badan, taas oo ka dhigaysa shaqadooda mid kamid ah kuwa ugu mushaarka sarreeya ee xogta ku jirta. Tani waxay tilmaamaysaa in shaqaalaha qaarkood ay ku jiraan heerka ugu sarreeya ee mushaarka iyo dheefaha la siiyo."
   ]
  },
  {
   "cell_type": "code",
   "execution_count": 26,
   "id": "ba0c1103-a2da-4beb-afb4-c08fee16ae63",
   "metadata": {},
   "outputs": [
    {
     "data": {
      "text/html": [
       "<div>\n",
       "<style scoped>\n",
       "    .dataframe tbody tr th:only-of-type {\n",
       "        vertical-align: middle;\n",
       "    }\n",
       "\n",
       "    .dataframe tbody tr th {\n",
       "        vertical-align: top;\n",
       "    }\n",
       "\n",
       "    .dataframe thead th {\n",
       "        text-align: right;\n",
       "    }\n",
       "</style>\n",
       "<table border=\"1\" class=\"dataframe\">\n",
       "  <thead>\n",
       "    <tr style=\"text-align: right;\">\n",
       "      <th></th>\n",
       "      <th>EmployeeName</th>\n",
       "      <th>JobTitle</th>\n",
       "      <th>TotalPay</th>\n",
       "    </tr>\n",
       "  </thead>\n",
       "  <tbody>\n",
       "    <tr>\n",
       "      <th>35637</th>\n",
       "      <td>TSE SHIH LENG</td>\n",
       "      <td>ACCOUNT CLERK</td>\n",
       "      <td>614.00</td>\n",
       "    </tr>\n",
       "    <tr>\n",
       "      <th>34974</th>\n",
       "      <td>LIEN LUM</td>\n",
       "      <td>ACCOUNT CLERK</td>\n",
       "      <td>1630.00</td>\n",
       "    </tr>\n",
       "    <tr>\n",
       "      <th>34975</th>\n",
       "      <td>RACHEL LAU</td>\n",
       "      <td>ACCOUNT CLERK</td>\n",
       "      <td>1630.00</td>\n",
       "    </tr>\n",
       "    <tr>\n",
       "      <th>32035</th>\n",
       "      <td>BARBARA BLOUNT</td>\n",
       "      <td>ACCOUNT CLERK</td>\n",
       "      <td>8751.40</td>\n",
       "    </tr>\n",
       "    <tr>\n",
       "      <th>31245</th>\n",
       "      <td>ALISHA WILLIS</td>\n",
       "      <td>ACCOUNT CLERK</td>\n",
       "      <td>11247.02</td>\n",
       "    </tr>\n",
       "    <tr>\n",
       "      <th>29749</th>\n",
       "      <td>MEI PO LEUNG</td>\n",
       "      <td>ACCOUNT CLERK</td>\n",
       "      <td>17737.91</td>\n",
       "    </tr>\n",
       "    <tr>\n",
       "      <th>29433</th>\n",
       "      <td>SUZANNE ZHENG</td>\n",
       "      <td>ACCOUNT CLERK</td>\n",
       "      <td>19572.53</td>\n",
       "    </tr>\n",
       "    <tr>\n",
       "      <th>29211</th>\n",
       "      <td>RONALD REYES</td>\n",
       "      <td>ACCOUNT CLERK</td>\n",
       "      <td>20984.54</td>\n",
       "    </tr>\n",
       "    <tr>\n",
       "      <th>29077</th>\n",
       "      <td>JUAN MARTINEZ</td>\n",
       "      <td>ACCOUNT CLERK</td>\n",
       "      <td>21972.67</td>\n",
       "    </tr>\n",
       "    <tr>\n",
       "      <th>28753</th>\n",
       "      <td>PAULET GAINES</td>\n",
       "      <td>ACCOUNT CLERK</td>\n",
       "      <td>24182.50</td>\n",
       "    </tr>\n",
       "  </tbody>\n",
       "</table>\n",
       "</div>"
      ],
      "text/plain": [
       "         EmployeeName       JobTitle  TotalPay\n",
       "35637   TSE SHIH LENG  ACCOUNT CLERK    614.00\n",
       "34974        LIEN LUM  ACCOUNT CLERK   1630.00\n",
       "34975      RACHEL LAU  ACCOUNT CLERK   1630.00\n",
       "32035  BARBARA BLOUNT  ACCOUNT CLERK   8751.40\n",
       "31245   ALISHA WILLIS  ACCOUNT CLERK  11247.02\n",
       "29749    MEI PO LEUNG  ACCOUNT CLERK  17737.91\n",
       "29433   SUZANNE ZHENG  ACCOUNT CLERK  19572.53\n",
       "29211    RONALD REYES  ACCOUNT CLERK  20984.54\n",
       "29077   JUAN MARTINEZ  ACCOUNT CLERK  21972.67\n",
       "28753   PAULET GAINES  ACCOUNT CLERK  24182.50"
      ]
     },
     "execution_count": 26,
     "metadata": {},
     "output_type": "execute_result"
    }
   ],
   "source": [
    "#  employees with the same job title but different TotalPay\n",
    "# Group by JobTitle and check if there are multiple TotalPay values for the same title\n",
    "job_title_totalpay_variability = salary_data.groupby('JobTitle')['TotalPay'].nunique()\n",
    "\n",
    "# Filter for job titles with more than one unique TotalPay, indicating variability\n",
    "variable_totalpay_titles = job_title_totalpay_variability[job_title_totalpay_variability > 1].index\n",
    "\n",
    "# Extract employees with these job titles and sort by JobTitle for clarity\n",
    "employees_with_variable_totalpay = salary_data[salary_data['JobTitle'].isin(variable_totalpay_titles)].sort_values(by=['JobTitle', 'TotalPay'])\n",
    "\n",
    "# Display some examples\n",
    "employees_with_variable_totalpay[['EmployeeName', 'JobTitle', 'TotalPay']].head(10)\n"
   ]
  },
  {
   "cell_type": "markdown",
   "id": "4aa3b9dd-6649-40a1-ae04-4c0697eb95dd",
   "metadata": {},
   "source": [
    "##### Shaqaalaha leh isku magac shaqo ah waxay heli karaan dakhli kala duwan sababo la xiriira heerka khibradda, waqti dheeraad ah oo ay shaqeeyaan, muddada ay shaqada joogeen, iyo waajibaadyo dheeraad ah oo ku xiran shaqadooda. Kala duwanaanshahan mushaharka wuxuu muujinayaa in shaqooyinka qaar ay ku xiran yihiin xaalado gaar ah oo kor u qaada dakhligooda, taas oo ka dhigaysa in shaqaalaha qaarkood ay helaan soo-gelin sare ama gunnooyin intii kale ka badan."
   ]
  },
  {
   "cell_type": "code",
   "execution_count": 28,
   "id": "64c13b11-9e4b-433e-863d-3fa068a35032",
   "metadata": {},
   "outputs": [
    {
     "data": {
      "text/plain": [
       "2159"
      ]
     },
     "execution_count": 28,
     "metadata": {},
     "output_type": "execute_result"
    }
   ],
   "source": [
    "# Calculate the number of unique job titles in the dataset\n",
    "unique_job_titles_count = salary_data['JobTitle'].nunique()\n",
    "unique_job_titles_count\n"
   ]
  },
  {
   "cell_type": "markdown",
   "id": "9be025e5-a2fb-4ae8-aa2c-b7c27576b6b3",
   "metadata": {},
   "source": [
    "##### Tirada 2,159 ee magacyada shaqo ee kala duwan waxay muujinaysaa kala duwanaanta sare ee shaqooyinka ka jira ururka ama hay’adda xogtan laga soo ururiyey. Tani waxay tilmaamaysaa in shaqaalaha uu ka kooban yahay xirfado iyo waajibaad kala duwan oo u baahan shaqooyin gaar ah oo leh mas'uuliyado iyo heerar aqoon oo kala duwan. Kala duwanaanshahani wuxuu xoojinayaa ballaaranida iyo baaxadda adeegyada la bixiyo."
   ]
  },
  {
   "cell_type": "markdown",
   "id": "4bae94d7-de81-4682-81d9-4db1d484ca9e",
   "metadata": {},
   "source": [
    "### . Define the roles of `TotalPay` and `TotalPayBenefits` in understanding employee compensation\n",
    "\n",
    "#### TotalPay waxay muujinaysaa soo-galinta mushaharka tooska ah ee shaqaalaha, iyadoo ka kooban mushaharka asaasiga ah iyo gunnooyinka. TotalPayBenefits waxay ku darsataa dheefaha kale sida caymiska caafimaadka, taas oo bixisa aragtida guud ee magdhowga shaqaalaha. Tani waxay siisaa qiime dhammaystiran oo ku saabsan qiimaha guud ee shaqaalaha helaan.\n",
    "\n",
    "\n",
    "##### TotalPay: Tani waa qiimaha mushaharka guud ee shaqaalaha ay helaan, oo ay ku jiraan mushaharka asaasiga ah iyo lacagaha kale ee dheeraadka ah sida saacadaha dheeriga ah iyo gunnooyinka. TotalPay waxay muhiim u tahay in la fahmo dakhli shaqo oo toos ah oo shaqaalaha uu helaayo, taasoo bixisa aragtida mushaharka guud ee shaqo.\n",
    "\n",
    "TotalPayBenefits: Tani waxay ku dartaa Benefits sida caymiska caafimaadka iyo hawlgabka, taas oo muujinaysa qiimaha guud ee shaqaalaha loogu talagalay magdhow. TotalPayBenefits waxay muhiim u tahay qiimeynta magdhowga dhammaystiran, maadaama ay muujinayso dakhli-dhowaadka dhabta ah ee shaqaalaha, taasoo ka caawinaysa qiimeynta guud ee qiimaha shaqaalaha helaan oo ka baxsan mushaharka tooska ah.\n",
    "\n",
    "Labadan cabbir waxay bixiyaan faham dhammaystiran oo ku saabsan magdhowga shaqaalaha iyadoo TotalPay ay diiradda saarto mushaharka shaqo, halka TotalPayBenefits ay muujinayso qiimaha magdhow ee guud.\n",
    "\n"
   ]
  },
  {
   "cell_type": "code",
   "execution_count": null,
   "id": "63c026c2-91e9-40f1-a44e-700c2ecc7382",
   "metadata": {},
   "outputs": [],
   "source": []
  }
 ],
 "metadata": {
  "kernelspec": {
   "display_name": "Python 3 (ipykernel)",
   "language": "python",
   "name": "python3"
  },
  "language_info": {
   "codemirror_mode": {
    "name": "ipython",
    "version": 3
   },
   "file_extension": ".py",
   "mimetype": "text/x-python",
   "name": "python",
   "nbconvert_exporter": "python",
   "pygments_lexer": "ipython3",
   "version": "3.12.4"
  }
 },
 "nbformat": 4,
 "nbformat_minor": 5
}
