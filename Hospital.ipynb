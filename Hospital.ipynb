{
 "cells": [
  {
   "cell_type": "markdown",
   "id": "bd405c84-93a6-4c86-875b-67b6f9ffda62",
   "metadata": {},
   "source": [
    "# Anwar abdi abdullahi                \n",
    "## ID:C1210539                             \n",
    "## Class:CA219"
   ]
  },
  {
   "cell_type": "code",
   "execution_count": 1,
   "id": "0749a7b1-d730-415c-89d8-b945324284ed",
   "metadata": {},
   "outputs": [],
   "source": [
    "import numpy as np"
   ]
  },
  {
   "cell_type": "code",
   "execution_count": 3,
   "id": "7ae5d083-db8b-491a-984b-1149a4aa0eac",
   "metadata": {},
   "outputs": [],
   "source": [
    "import statistics as stats"
   ]
  },
  {
   "cell_type": "code",
   "execution_count": 5,
   "id": "c451b8d6-b448-4a8f-b63b-af34b1cc3f6f",
   "metadata": {},
   "outputs": [],
   "source": [
    "data =np.array([18, 25, 12, 10, 30, 22, 15, 18, 20, 16, 19, 25, 21, 11, 14, 17, 28, 26, 23, 19])"
   ]
  },
  {
   "cell_type": "code",
   "execution_count": 7,
   "id": "4d412308-9c7d-4d2e-8dbe-bf83e37fd6c9",
   "metadata": {},
   "outputs": [
    {
     "data": {
      "text/plain": [
       "19.45"
      ]
     },
     "execution_count": 7,
     "metadata": {},
     "output_type": "execute_result"
    }
   ],
   "source": [
    "mean_data =np.mean(data)\n",
    "mean_data"
   ]
  },
  {
   "cell_type": "markdown",
   "id": "23b8e9d6-14a3-4d26-ad0d-ed8534dc1248",
   "metadata": {},
   "source": [
    "### celceliska wakhtiga soo kabashada waa 19.45 maalmood, taasoo muujineysa in celcelis ahaan bukaannada ay ku soo kabtaan qiyaastii 19.5 maalmood."
   ]
  },
  {
   "cell_type": "code",
   "execution_count": 10,
   "id": "5cdb934a-84dc-4b3b-aa8c-5bbca7ee6ab1",
   "metadata": {},
   "outputs": [
    {
     "data": {
      "text/plain": [
       "19.0"
      ]
     },
     "execution_count": 10,
     "metadata": {},
     "output_type": "execute_result"
    }
   ],
   "source": [
    "meadian_data = np.median(data)\n",
    "meadian_data"
   ]
  },
  {
   "cell_type": "markdown",
   "id": "494d0e86-915b-4e58-b7e8-661f190752d9",
   "metadata": {},
   "source": [
    "### (Median) waa qiimaha ku yaal bartamaha marka xogta la kala horreysiiyo. Xogtan, wakhtiga soo kabashada ee dhexdhexaadka ah waa 19 maalmood, taasoo macnaheedu yahay in kala bar bukaannada ay ka soo kabteen wax ka yar 19 maalmood, halka kala bar kale ay soo kabsadeen wax ka badan 19 maalmood."
   ]
  },
  {
   "cell_type": "code",
   "execution_count": 13,
   "id": "6c5f0eb4-0ba7-4a05-b1dc-de9e31da0eac",
   "metadata": {},
   "outputs": [
    {
     "data": {
      "text/plain": [
       "18"
      ]
     },
     "execution_count": 13,
     "metadata": {},
     "output_type": "execute_result"
    }
   ],
   "source": [
    "mode_data = stats.mode(data)\n",
    "mode_data"
   ]
  },
  {
   "cell_type": "markdown",
   "id": "d90937ff-277c-47e7-800a-89bf46898c1b",
   "metadata": {},
   "source": [
    "### Mode-ka waa qiimaha ugu badan ee soo noqnoqda ee xogta. Xogtan, qiimaha 18 ayaa ah kan ugu badan oo soo noqday 2 jeer, taasoo muujineysa in 18 maalmood uu yahay waqtiga soo kabashada ugu badan ee bukaannadu leeyihiin. "
   ]
  },
  {
   "cell_type": "code",
   "execution_count": 16,
   "id": "6f989e34-157f-4513-ba98-c4124145c899",
   "metadata": {},
   "outputs": [
    {
     "data": {
      "text/plain": [
       "20"
      ]
     },
     "execution_count": 16,
     "metadata": {},
     "output_type": "execute_result"
    }
   ],
   "source": [
    "range_data =np.max(data) - np.min(data)\n",
    "range_data"
   ]
  },
  {
   "cell_type": "markdown",
   "id": "b38a7a92-f4be-4967-b957-67d35412d312",
   "metadata": {},
   "source": [
    "### Range-ka (Farqiga u dhexeeya qiimaha ugu badan iyo kan ugu yar) waa cabbirka kala duwanaanshaha xogta. Xogta la bixiyay waxay leedahay kala duwanaansho dhan 20 maalmood, taasoo macnaheedu yahay in wakhtiga soo kabashada ugu gaaban uu yahay 10 maalmood, halka kan ugu dheer uu yahay 30 maalmood"
   ]
  },
  {
   "cell_type": "code",
   "execution_count": 19,
   "id": "eea5d00f-4375-43a6-87cf-86fef3add527",
   "metadata": {},
   "outputs": [
    {
     "name": "stdout",
     "output_type": "stream",
     "text": [
      "Variance: 31.523684210526312\n",
      "Standard Deviation: 5.614595640874445\n"
     ]
    }
   ],
   "source": [
    "variance_data = np.var(data, ddof=1)\n",
    "std_deviation_data = np.std(data, ddof=1)\n",
    "print(\"Variance:\", variance_data)\n",
    "print(\"Standard Deviation:\", std_deviation_data)"
   ]
  },
  {
   "cell_type": "markdown",
   "id": "d57033ba-ad76-46e6-8dbe-b64bdd821e9f",
   "metadata": {},
   "source": [
    "### Kala duwanaanta 31.52 iyo heerka leexashada ee 5.61 waxay muujinayaan in wakhtiyada soo kabashada ay leeyihiin kala duwanaansho dhexdhexaad ah. Celcelis ahaan, wakhtiyada soo kabashada ayaa ku kala duwan qiyaastii 5.61 maalmood marka loo eego celceliska."
   ]
  },
  {
   "cell_type": "code",
   "execution_count": 22,
   "id": "7650a04c-9ff9-4bce-ba98-02f59b5c8e6b",
   "metadata": {},
   "outputs": [
    {
     "name": "stdout",
     "output_type": "stream",
     "text": [
      "25th Percentile: 15.75\n",
      "50th Percentile (Median): 19.0\n",
      "75th Percentile: 23.5\n"
     ]
    }
   ],
   "source": [
    "percentile_25 = np.percentile(data, 25)\n",
    "percentile_50 = np.percentile(data, 50) \n",
    "percentile_75 = np.percentile(data, 75)\n",
    "\n",
    "print(\"25th Percentile:\", percentile_25)\n",
    "print(\"50th Percentile (Median):\", percentile_50)\n",
    "print(\"75th Percentile:\", percentile_75)"
   ]
  },
  {
   "cell_type": "markdown",
   "id": "4156c1d8-6aed-4f0e-a440-b6b7218d1f29",
   "metadata": {},
   "source": [
    "### Boqolleyda 25-aad waxay kuu sheegaysaa in 25% ee wakhtiyada soo kabashada ay yihiin 15.75 maalmood ama ka yar, halka boqolleyda 75-aad ay tilmaamayso in 75% ee wakhtiyada soo kabashada ay yihiin 23.5 maalmood ama ka yar. Boqolleyda 50-aad waa dhex-dhexaadka xogta."
   ]
  },
  {
   "cell_type": "code",
   "execution_count": 25,
   "id": "b68fe378-338a-4ef0-9afd-656fbd16e751",
   "metadata": {},
   "outputs": [],
   "source": [
    "percentile_25 = np.percentile(data, 25)\n",
    "percentile_75 = np.percentile(data, 75)"
   ]
  },
  {
   "cell_type": "code",
   "execution_count": 27,
   "id": "a3be799a-29ff-4ad9-a103-aca348e13afd",
   "metadata": {},
   "outputs": [
    {
     "name": "stdout",
     "output_type": "stream",
     "text": [
      "Interquartile Range (IQR): 7.75\n"
     ]
    }
   ],
   "source": [
    "IQR = percentile_75 - percentile_25\n",
    "print(\"Interquartile Range (IQR):\", IQR)"
   ]
  },
  {
   "cell_type": "markdown",
   "id": "4f6b5f76-d28f-4ef1-adff-ad96993e3938",
   "metadata": {},
   "source": [
    "### IQR-ka waa 7.75 maalmood. Taas micnaheedu waa in 50% ee dhexe ee wakhtiyada soo kabashada ay ku jiraan farqiga 7.75 maalmood."
   ]
  },
  {
   "cell_type": "markdown",
   "id": "2c47b00b-d47c-458f-a0cf-c8e4ef8a3467",
   "metadata": {},
   "source": []
  },
  {
   "cell_type": "markdown",
   "id": "bd79ef41-9ffc-4d2d-b276-76b348fd5235",
   "metadata": {},
   "source": [
    "# Warbixin Kooban: Falanqaynta Wakhtiyada Soo Kabashada ee Bukanadda\n",
    "Warbixintan waxay falanqaysaa xogta wakhtiyada soo kabashada (maalmo) iyadoo la adeegsanayo falanqaynta tirakoobka. Xogta la falanqeeyay waxaa ka mid ah celcelis (mean), dhexdhexaad (median), mode (qiimaha ugu badan ee soo noqnoqda), kala duwanaanshaha (range), farqiga (variance), heerka leexashada (standard deviation), boqolleeyada (percentiles), iyo cabbirka kala-duwanaanshaha dhexe (IQR).\n",
    "\n",
    "### Soo Koobid Warbixin:\n",
    "1. Celcelis (Mean): Wakhtiga celceliska ah ee soo kabashada waa 19.45 maalmood, taasoo muujineysa in bukaanada inta badan ay soo kabsadaan qiyaastii 19.5 maalmood.\n",
    "\n",
    "2. Dhexdhexaad (Median): Wakhtiga soo kabashada ee bartamaha waa 19 maalmood, taasoo macnaheedu yahay kala bar bukaannada waxay soo kabteen wax ka yar ama la eg 19 maalmood, halka kala barka kale ay ka badan yihiin.\n",
    "\n",
    "3. Mode: Qiimaha soo noqnoqda ugu badan ee xogta waa 18 maalmood, taasoo muujineysa in bukaannada badankood ay ku soo kabteen 18 maalmood.\n",
    "\n",
    "4. Range: Kala duwanaanshaha wakhtiyada soo kabashada waa 20 maalmood, laga bilaabo ugu yaraan 10 maalmood ilaa ugu badnaan 30 maalmood. Tani waxay muujineysaa kala duwanaansho weyn oo ku saabsan wakhtiyada soo kabashada.\n",
    "\n",
    "5. Farqiga (Variance) iyo Heerka Leexashada (Standard Deviation):\n",
    "\n",
    "Farqiga waa 31.52, halka heerka leexashada uu yahay 5.61 maalmood, taasoo muujineysa in wakhtiyada soo kabashada ay celcelis ahaan ku kala duwan yihiin qiyaastii 5.6 maalmood marka loo eego celceliska.\n",
    "\n",
    "6. Boqolleeyada (Percentiles):\n",
    "\n",
    "  25% ee bukaannada waxay soo kabteen wax ka yar 15.75 maalmood.\n",
    "  50% (median) waxay soo kabteen 19 maalmood ama ka yar.\n",
    "  75% waxay soo kabteen 23.5 maalmood ama ka yar.\n",
    "  \n",
    "7. IQR (Interquartile Range): IQR waa 7.75 maalmood, taasoo macnaheedu yahay in kala badhka dhexe ee    bukaannada ay ku soo kabteen farqiga 7.75 maalmood ee u dhexeeya boqolleeyada 25-aad iyo 75-aad.\n",
    "\n",
    "### Soo Koobid Guud:\n",
    "Wakhtiyada soo kabashada ee bukaanadu waxay u dhexeeyaan 19.45 maalmood oo celcelis ah, iyada oo kala duwanaansho dhexdhexaad ah (heerka leexashada waa 5.61 maalmood). Inta badan bukaannada waxay ku soo kabtaan wakhtiyo u dhexeeya 15.75 ilaa 23.5 maalmood.\n",
    "\n",
    "Warbixintani waxay si buuxda u sharxaysaa qaabka wakhtiyada soo kabashada ee bukaanada, iyadoo la adeegsanayo falanqaynta tirakoobka si loo fahmo habka soo kabashada."
   ]
  },
  {
   "cell_type": "code",
   "execution_count": null,
   "id": "2157f8d1-78fd-41a1-ae77-cde0f8fcedac",
   "metadata": {},
   "outputs": [],
   "source": []
  },
  {
   "cell_type": "code",
   "execution_count": null,
   "id": "82500e28-2636-4240-92a1-638582a37085",
   "metadata": {},
   "outputs": [],
   "source": []
  }
 ],
 "metadata": {
  "kernelspec": {
   "display_name": "Python 3 (ipykernel)",
   "language": "python",
   "name": "python3"
  },
  "language_info": {
   "codemirror_mode": {
    "name": "ipython",
    "version": 3
   },
   "file_extension": ".py",
   "mimetype": "text/x-python",
   "name": "python",
   "nbconvert_exporter": "python",
   "pygments_lexer": "ipython3",
   "version": "3.12.4"
  }
 },
 "nbformat": 4,
 "nbformat_minor": 5
}
